{
  "nbformat": 4,
  "nbformat_minor": 0,
  "metadata": {
    "colab": {
      "provenance": []
    },
    "kernelspec": {
      "name": "python3",
      "display_name": "Python 3"
    },
    "language_info": {
      "name": "python"
    }
  },
  "cells": [
    {
      "cell_type": "code",
      "execution_count": null,
      "metadata": {
        "colab": {
          "base_uri": "https://localhost:8080/"
        },
        "id": "N1FSMmYC83jB",
        "outputId": "05995ceb-a2cb-4c37-c121-2694cb5de4bc"
      },
      "outputs": [
        {
          "output_type": "stream",
          "name": "stdout",
          "text": [
            "Requirement already satisfied: xgboost in /usr/local/lib/python3.10/dist-packages (2.0.3)\n",
            "Requirement already satisfied: numpy in /usr/local/lib/python3.10/dist-packages (from xgboost) (1.25.2)\n",
            "Requirement already satisfied: scipy in /usr/local/lib/python3.10/dist-packages (from xgboost) (1.11.4)\n"
          ]
        }
      ],
      "source": [
        "pip install xgboost"
      ]
    },
    {
      "cell_type": "code",
      "source": [
        "from google.colab import drive\n",
        "drive.mount('/content/drive')"
      ],
      "metadata": {
        "colab": {
          "base_uri": "https://localhost:8080/"
        },
        "id": "k0n_iawjEzgb",
        "outputId": "989e049c-962c-4508-c796-28a23bfbe86d"
      },
      "execution_count": null,
      "outputs": [
        {
          "output_type": "stream",
          "name": "stdout",
          "text": [
            "Mounted at /content/drive\n"
          ]
        }
      ]
    },
    {
      "cell_type": "code",
      "source": [
        "import pandas as pd\n",
        "from sklearn.model_selection import train_test_split\n",
        "\n",
        "# Load the data from CSV\n",
        "data = pd.read_csv('./drive/MyDrive/aist4010_project/form_records_cleaned.csv', index_col=0)"
      ],
      "metadata": {
        "id": "J4J_kq6oE1by"
      },
      "execution_count": null,
      "outputs": []
    },
    {
      "cell_type": "code",
      "source": [
        "from sklearn.preprocessing import StandardScaler, MinMaxScaler, OneHotEncoder\n",
        "\n",
        "# Drop any irrelevant columns\n",
        "data = data.drop(['Race_Index', 'Date'], axis=1)\n",
        "\n",
        "# Perform normalization on numerical features\n",
        "numerical_cols_minmax = ['Distance', 'Draw']\n",
        "scaler_minmax = MinMaxScaler()\n",
        "data[numerical_cols_minmax] = scaler_minmax.fit_transform(data[numerical_cols_minmax])\n",
        "\n",
        "# Perform normalization on numerical features using StandardScaler\n",
        "numerical_cols_norm = ['Rating', 'Win_Odds', 'Actual_Weight', 'Declared_Horse_Weight']\n",
        "scaler_norm = StandardScaler()\n",
        "data[numerical_cols_norm] = scaler_norm.fit_transform(data[numerical_cols_norm])\n",
        "\n",
        "# Perform one-hot encoding on categorical variables\n",
        "categorical_cols = ['Going', 'Race_Class','Track', 'Course']\n",
        "encoder = OneHotEncoder(sparse_output=False, drop='first')\n",
        "encoded_cols = pd.DataFrame(encoder.fit_transform(data[categorical_cols]))\n",
        "\n",
        "# Perform normalization onFinish_Time_ms using StandardScaler\n",
        "finish_time_cols_norm = ['Finish_Time_ms']\n",
        "finish_time_norm = StandardScaler()\n",
        "data[finish_time_cols_norm] = finish_time_norm.fit_transform(data[finish_time_cols_norm])\n",
        "\n",
        "data = pd.concat([data.drop(categorical_cols, axis=1), encoded_cols], axis=1)\n",
        "\n",
        "data = data.drop(['Place', 'RC'], axis=1)\n",
        "\n",
        "data = data.dropna()\n",
        "\n",
        "\n",
        "X = data.drop('Finish_Time_ms', axis=1).to_numpy()\n",
        "y = (data['Finish_Time_ms']).to_numpy()\n",
        "\n",
        "X_train, X_test, y_train, y_test = train_test_split(X, y, test_size=0.3, random_state=42)"
      ],
      "metadata": {
        "id": "cBahgZeHE8r5"
      },
      "execution_count": null,
      "outputs": []
    },
    {
      "cell_type": "code",
      "source": [
        "import xgboost as xgb\n",
        "import numpy as np\n",
        "from sklearn.model_selection import train_test_split\n",
        "from sklearn.metrics import mean_squared_error\n",
        "import matplotlib.pyplot as plt\n",
        "\n",
        "\n",
        "# Initialize the model\n",
        "xgb_reg = xgb.XGBRegressor(objective='reg:squarederror', n_estimators=51, learning_rate=0.1, seed=42)\n",
        "\n",
        "# Train the regressor with evaluation metrics\n",
        "xgb_reg.fit(X_train, y_train,\n",
        "            eval_set=[(X_train, y_train), (X_test, y_test)],\n",
        "            eval_metric='rmse',\n",
        "            verbose=True)\n",
        "\n",
        "y_pred = xgb_reg.predict(X_test)\n",
        "\n",
        "mse = mean_squared_error(y_test, y_pred)\n",
        "rmse = np.sqrt(mse)\n",
        "\n",
        "# Print results\n",
        "print(f\"MSE: {mse}\")\n",
        "print(f\"RMSE: {rmse}\")\n",
        "\n",
        "print(f\"Error in time (ms): {rmse * np.sqrt(finish_time_norm.var_.item())}\")\n",
        "\n",
        "# plot\n",
        "epochs = len(xgb_reg.evals_result_['validation_0']['rmse'])\n",
        "x_axis = range(0, epochs)\n",
        "fig, ax = plt.subplots()\n",
        "ax.plot(x_axis, np.array(xgb_reg.evals_result_['validation_0']['rmse']) ** 2, label='Train')\n",
        "ax.plot(x_axis, np.array(xgb_reg.evals_result_['validation_1']['rmse']) ** 2, label='Test')\n",
        "ax.legend()\n",
        "plt.ylabel('MSE')\n",
        "plt.title('XGBRegressor MSE')\n",
        "plt.show()"
      ],
      "metadata": {
        "colab": {
          "base_uri": "https://localhost:8080/",
          "height": 1000
        },
        "id": "XhGaq3qj4C4x",
        "outputId": "e61be2ca-c804-46f6-f0d1-287b1a188a5e"
      },
      "execution_count": null,
      "outputs": [
        {
          "output_type": "stream",
          "name": "stdout",
          "text": [
            "[0]\tvalidation_0-rmse:0.90156\tvalidation_1-rmse:0.89908\n",
            "[1]\tvalidation_0-rmse:0.81230\tvalidation_1-rmse:0.80996\n",
            "[2]\tvalidation_0-rmse:0.73196\tvalidation_1-rmse:0.72977\n",
            "[3]\tvalidation_0-rmse:0.65973\tvalidation_1-rmse:0.65766\n",
            "[4]\tvalidation_0-rmse:0.59475\tvalidation_1-rmse:0.59280\n",
            "[5]\tvalidation_0-rmse:0.53633\tvalidation_1-rmse:0.53444\n",
            "[6]\tvalidation_0-rmse:0.48382\tvalidation_1-rmse:0.48193\n",
            "[7]\tvalidation_0-rmse:0.43662\tvalidation_1-rmse:0.43471\n",
            "[8]\tvalidation_0-rmse:0.39409\tvalidation_1-rmse:0.39230\n",
            "[9]\tvalidation_0-rmse:0.35594\tvalidation_1-rmse:0.35419\n",
            "[10]\tvalidation_0-rmse:0.32175\tvalidation_1-rmse:0.31991\n",
            "[11]\tvalidation_0-rmse:0.29106\tvalidation_1-rmse:0.28913\n",
            "[12]\tvalidation_0-rmse:0.26356\tvalidation_1-rmse:0.26151\n",
            "[13]\tvalidation_0-rmse:0.23893\tvalidation_1-rmse:0.23674\n",
            "[14]\tvalidation_0-rmse:0.21682\tvalidation_1-rmse:0.21447\n",
            "[15]\tvalidation_0-rmse:0.19714\tvalidation_1-rmse:0.19457\n",
            "[16]\tvalidation_0-rmse:0.17957\tvalidation_1-rmse:0.17674\n",
            "[17]\tvalidation_0-rmse:0.16393\tvalidation_1-rmse:0.16088\n",
            "[18]\tvalidation_0-rmse:0.14996\tvalidation_1-rmse:0.14668\n"
          ]
        },
        {
          "output_type": "stream",
          "name": "stderr",
          "text": [
            "/usr/local/lib/python3.10/dist-packages/xgboost/sklearn.py:889: UserWarning: `eval_metric` in `fit` method is deprecated for better compatibility with scikit-learn, use `eval_metric` in constructor or`set_params` instead.\n",
            "  warnings.warn(\n"
          ]
        },
        {
          "output_type": "stream",
          "name": "stdout",
          "text": [
            "[19]\tvalidation_0-rmse:0.13764\tvalidation_1-rmse:0.13400\n",
            "[20]\tvalidation_0-rmse:0.12674\tvalidation_1-rmse:0.12279\n",
            "[21]\tvalidation_0-rmse:0.11713\tvalidation_1-rmse:0.11276\n",
            "[22]\tvalidation_0-rmse:0.10870\tvalidation_1-rmse:0.10393\n",
            "[23]\tvalidation_0-rmse:0.10096\tvalidation_1-rmse:0.09633\n",
            "[24]\tvalidation_0-rmse:0.09450\tvalidation_1-rmse:0.08959\n",
            "[25]\tvalidation_0-rmse:0.08882\tvalidation_1-rmse:0.08375\n",
            "[26]\tvalidation_0-rmse:0.08397\tvalidation_1-rmse:0.07856\n",
            "[27]\tvalidation_0-rmse:0.07979\tvalidation_1-rmse:0.07411\n",
            "[28]\tvalidation_0-rmse:0.07620\tvalidation_1-rmse:0.07024\n",
            "[29]\tvalidation_0-rmse:0.07306\tvalidation_1-rmse:0.06696\n",
            "[30]\tvalidation_0-rmse:0.07041\tvalidation_1-rmse:0.06412\n",
            "[31]\tvalidation_0-rmse:0.06819\tvalidation_1-rmse:0.06163\n",
            "[32]\tvalidation_0-rmse:0.06618\tvalidation_1-rmse:0.05967\n",
            "[33]\tvalidation_0-rmse:0.06459\tvalidation_1-rmse:0.05790\n",
            "[34]\tvalidation_0-rmse:0.06322\tvalidation_1-rmse:0.05643\n",
            "[35]\tvalidation_0-rmse:0.06207\tvalidation_1-rmse:0.05518\n",
            "[36]\tvalidation_0-rmse:0.06110\tvalidation_1-rmse:0.05411\n",
            "[37]\tvalidation_0-rmse:0.06029\tvalidation_1-rmse:0.05327\n",
            "[38]\tvalidation_0-rmse:0.05959\tvalidation_1-rmse:0.05258\n",
            "[39]\tvalidation_0-rmse:0.05900\tvalidation_1-rmse:0.05196\n",
            "[40]\tvalidation_0-rmse:0.05850\tvalidation_1-rmse:0.05154\n",
            "[41]\tvalidation_0-rmse:0.05807\tvalidation_1-rmse:0.05118\n",
            "[42]\tvalidation_0-rmse:0.05761\tvalidation_1-rmse:0.05083\n",
            "[43]\tvalidation_0-rmse:0.05722\tvalidation_1-rmse:0.05052\n",
            "[44]\tvalidation_0-rmse:0.05691\tvalidation_1-rmse:0.05031\n",
            "[45]\tvalidation_0-rmse:0.05661\tvalidation_1-rmse:0.05009\n",
            "[46]\tvalidation_0-rmse:0.05637\tvalidation_1-rmse:0.04992\n",
            "[47]\tvalidation_0-rmse:0.05563\tvalidation_1-rmse:0.05018\n",
            "[48]\tvalidation_0-rmse:0.05480\tvalidation_1-rmse:0.04997\n",
            "[49]\tvalidation_0-rmse:0.05462\tvalidation_1-rmse:0.04986\n",
            "[50]\tvalidation_0-rmse:0.05445\tvalidation_1-rmse:0.04977\n",
            "MSE: 0.0024773609766747234\n",
            "RMSE: 0.04977309490753738\n",
            "Error in time (ms): 891.5966123648813\n"
          ]
        },
        {
          "output_type": "display_data",
          "data": {
            "text/plain": [
              "<Figure size 640x480 with 1 Axes>"
            ],
            "image/png": "[encoded data removed]"
          },
          "metadata": {}
        }
      ]
    }
  ]
}