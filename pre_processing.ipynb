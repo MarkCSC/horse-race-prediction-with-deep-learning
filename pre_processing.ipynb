{
  "nbformat": 4,
  "nbformat_minor": 0,
  "metadata": {
    "colab": {
      "provenance": []
    },
    "kernelspec": {
      "name": "python3",
      "display_name": "Python 3"
    },
    "language_info": {
      "name": "python"
    }
  },
  "cells": [
    {
      "cell_type": "code",
      "execution_count": null,
      "metadata": {
        "colab": {
          "base_uri": "https://localhost:8080/"
        },
        "id": "e7Ciwht6Me9r",
        "outputId": "e2b00f0b-1c36-4ca6-c08c-d7a932d96d6c"
      },
      "outputs": [
        {
          "output_type": "stream",
          "name": "stdout",
          "text": [
            "Mounted at /content/drive\n"
          ]
        }
      ],
      "source": [
        "from google.colab import drive\n",
        "drive.mount('/content/drive')"
      ]
    },
    {
      "cell_type": "code",
      "source": [
        "import pandas as pd\n",
        "\n",
        "# Specify the path to your CSV file\n",
        "csv_file_path = './drive/MyDrive/aist4010_project/form_records.csv'\n",
        "\n",
        "# Load the CSV file into a pandas DataFrame\n",
        "df = pd.read_csv(csv_file_path, index_col=0)\n",
        "\n",
        "# Now you can work with the DataFrame\n",
        "print(df.head())  # Print the first few rows of the DataFrame"
      ],
      "metadata": {
        "colab": {
          "base_uri": "https://localhost:8080/"
        },
        "id": "ogS9lUf7NVCV",
        "outputId": "22fb837a-cdc5-4454-e577-d36dcac8ddef"
      },
      "execution_count": null,
      "outputs": [
        {
          "output_type": "stream",
          "name": "stdout",
          "text": [
            "  Race_Index Place      Date    RC/Track/Course  Distance Going Race_Class  \\\n",
            "0        463    03  28/02/24    HV / Turf / \"A\"      1200     G          3   \n",
            "1        422    01  15/02/24    HV / Turf / \"C\"      1200     G          3   \n",
            "2        386    04  31/01/24    HV / Turf / \"A\"      1200     G          3   \n",
            "3        332    03  10/01/24    HV / Turf / \"B\"      1200     G          3   \n",
            "4        295    07  29/12/23  HV / Turf / \"C+3\"      1200     G          3   \n",
            "\n",
            "  Draw Rating Trainer     Jockey    LBW Win_Odds  Actual_Weight  \\\n",
            "0    2     72  J Size  A Hamelin      2      6.2            128   \n",
            "1   11     67  J Size   Z Purton     HD      5.2            127   \n",
            "2    8     68  J Size   M F Poon  2-3/4       14            123   \n",
            "3    3     68  J Size   A Atzeni  2-1/2      7.3            126   \n",
            "4    7     68  J Size   Z Purton      2      4.8            125   \n",
            "\n",
            "  Running_Position Finish_Time Declared_Horse_Weight Gear Video_Replay  \\\n",
            "0            8 7 3     1.10.98                  1078    B          NaN   \n",
            "1            9 9 1     1.10.51                  1075    B          NaN   \n",
            "2           10 9 4     1.10.18                  1083    B          NaN   \n",
            "3          11 10 3     1.10.30                  1074   B1          NaN   \n",
            "4          10 10 7     1.10.54                  1095   --          NaN   \n",
            "\n",
            "   Video_Replay_2  \n",
            "0             NaN  \n",
            "1             NaN  \n",
            "2             NaN  \n",
            "3             NaN  \n",
            "4             NaN  \n"
          ]
        }
      ]
    },
    {
      "cell_type": "code",
      "source": [
        "# Drop multiple columns\n",
        "columns_to_drop = [ 'Trainer','Jockey', 'LBW', 'Running_Position', 'Gear', 'Video_Replay', 'Video_Replay_2']\n",
        "df = df.drop(columns_to_drop, axis=1)"
      ],
      "metadata": {
        "id": "91AAaIffSIX5"
      },
      "execution_count": null,
      "outputs": []
    },
    {
      "cell_type": "code",
      "source": [
        "# Transform RC/Track/Course into columns\n",
        "df[['RC', 'Track', 'Course']] = df['RC/Track/Course'].str.split('/', expand=True)\n",
        "\n",
        "df['RC'] = df['RC'].str.strip()\n",
        "df['Track'] = df['Track'].str.strip()\n",
        "df['Course'] = df['Course'].str.strip()\n",
        "\n",
        "df = df.drop(['RC/Track/Course'], axis=1)\n",
        "\n",
        "print(df.head())"
      ],
      "metadata": {
        "colab": {
          "base_uri": "https://localhost:8080/"
        },
        "id": "IZ4Pxys8NvgS",
        "outputId": "7cd88bf1-9b84-4da9-a427-5453649f463c"
      },
      "execution_count": null,
      "outputs": [
        {
          "output_type": "stream",
          "name": "stdout",
          "text": [
            "  Race_Index Place      Date  Distance Going Race_Class Draw Rating Win_Odds  \\\n",
            "0        463    03  28/02/24      1200     G          3    2     72      6.2   \n",
            "1        422    01  15/02/24      1200     G          3   11     67      5.2   \n",
            "2        386    04  31/01/24      1200     G          3    8     68       14   \n",
            "3        332    03  10/01/24      1200     G          3    3     68      7.3   \n",
            "4        295    07  29/12/23      1200     G          3    7     68      4.8   \n",
            "\n",
            "   Actual_Weight Finish_Time Declared_Horse_Weight  RC Track Course  \n",
            "0            128     1.10.98                  1078  HV  Turf    \"A\"  \n",
            "1            127     1.10.51                  1075  HV  Turf    \"C\"  \n",
            "2            123     1.10.18                  1083  HV  Turf    \"A\"  \n",
            "3            126     1.10.30                  1074  HV  Turf    \"B\"  \n",
            "4            125     1.10.54                  1095  HV  Turf  \"C+3\"  \n"
          ]
        }
      ]
    },
    {
      "cell_type": "code",
      "source": [
        "def parse_time(time_str):\n",
        "    parts = time_str.split('.')\n",
        "    try:\n",
        "        if len(parts) == 3:\n",
        "            return int(parts[0]), int(parts[1]), int(parts[2])  # minutes, seconds, milliseconds\n",
        "        elif len(parts) == 2:\n",
        "            return 0, int(parts[0]), int(parts[1])  # default minutes to 0, then seconds, milliseconds\n",
        "        else:\n",
        "            return None  # Return None for unexpected formats\n",
        "    except ValueError:\n",
        "        return None  # Return None if any part is not an integer\n",
        "\n",
        "# Apply the function to each row and create new columns\n",
        "df['parsed_time'] = df['Finish_Time'].apply(parse_time)\n",
        "df[['Finish_Minute', 'Finish_Second', 'Finish_MilliSecond']] = pd.DataFrame(df['parsed_time'].tolist(), index=df.index)"
      ],
      "metadata": {
        "id": "Cbe20SNbyyO9"
      },
      "execution_count": null,
      "outputs": []
    },
    {
      "cell_type": "code",
      "source": [
        "# Convert column to numeric values\n",
        "df['Place'] = pd.to_numeric(df['Place'], errors='coerce')\n",
        "df['Date'] = pd.to_datetime(df['Date'], format='%d/%m/%y')\n",
        "df['Win_Odds'] = pd.to_numeric(df['Win_Odds'], errors='coerce')\n",
        "df['Draw'] = pd.to_numeric(df['Draw'], errors='coerce')\n",
        "df['Rating'] = pd.to_numeric(df['Rating'], errors='coerce')\n",
        "df['Actual_Weight'] = pd.to_numeric(df['Actual_Weight'], errors='coerce')\n",
        "df['Declared_Horse_Weight'] = pd.to_numeric(df['Declared_Horse_Weight'], errors='coerce')\n",
        "\n",
        "# Remove double quotes from 'Course' column\n",
        "df['Course'] = df['Course'].str.strip('\"')\n",
        "\n",
        "# Drop rows with missing or invalid entry\n",
        "df = df.drop(df[df.values == '--'].index)\n",
        "\n",
        "# # Split 'Finish_Time' column into hours, minutes, and seconds\n",
        "# df[['Finish_Minute', 'Finish_Second', 'Finish_MilliSecond']] = df['Finish_Time'].str.split('.', expand=True).astype(int)\n",
        "\n",
        "# Drop the original 'Finish_Time' column\n",
        "df = df.drop('Finish_Time', axis=1)\n",
        "\n",
        "# Convert the time components to seconds and calculate the total finishing time in milliseconds: 1.10.98\n",
        "df['Finish_Time_ms'] = (df['Finish_Minute'] * 60 * 1000) + (df['Finish_Second'] * 1000) + (df['Finish_MilliSecond'] * 10)\n",
        "\n",
        "# Drop the original 'Finish_Time' column and the time components columns\n",
        "df = df.drop(['Finish_Minute', 'Finish_Second', 'Finish_MilliSecond', 'parsed_time'], axis=1)\n",
        "\n",
        "print(df.head())"
      ],
      "metadata": {
        "colab": {
          "base_uri": "https://localhost:8080/"
        },
        "id": "Ul_NHdDkS4bU",
        "outputId": "3a4b17ab-e2ac-415a-cbf3-52141e1a4276"
      },
      "execution_count": null,
      "outputs": [
        {
          "output_type": "stream",
          "name": "stdout",
          "text": [
            "  Race_Index  Place       Date  Distance Going Race_Class  Draw  Rating  \\\n",
            "0        463    3.0 2024-02-28      1200     G          3   2.0    72.0   \n",
            "1        422    1.0 2024-02-15      1200     G          3  11.0    67.0   \n",
            "2        386    4.0 2024-01-31      1200     G          3   8.0    68.0   \n",
            "3        332    3.0 2024-01-10      1200     G          3   3.0    68.0   \n",
            "4        295    7.0 2023-12-29      1200     G          3   7.0    68.0   \n",
            "\n",
            "   Win_Odds  Actual_Weight  Declared_Horse_Weight  RC Track Course  \\\n",
            "0       6.2            128                 1078.0  HV  Turf      A   \n",
            "1       5.2            127                 1075.0  HV  Turf      C   \n",
            "2      14.0            123                 1083.0  HV  Turf      A   \n",
            "3       7.3            126                 1074.0  HV  Turf      B   \n",
            "4       4.8            125                 1095.0  HV  Turf    C+3   \n",
            "\n",
            "   Finish_Time_ms  \n",
            "0         70980.0  \n",
            "1         70510.0  \n",
            "2         70180.0  \n",
            "3         70300.0  \n",
            "4         70540.0  \n"
          ]
        }
      ]
    },
    {
      "cell_type": "code",
      "source": [
        "print(df.head())\n",
        "print(df.shape[0])\n",
        "\n",
        "# Drop columns containing NaN values\n",
        "df = df.dropna().reset_index(drop=True)\n",
        "\n",
        "print(df.head())\n",
        "print(df.shape[0])\n",
        "\n",
        "print(df)\n",
        "df.to_csv('./drive/MyDrive/aist4010_project/form_records_cleaned.csv')"
      ],
      "metadata": {
        "colab": {
          "base_uri": "https://localhost:8080/"
        },
        "id": "NdlWxjT0cEGe",
        "outputId": "61171e9c-391d-4999-c832-96738c07bdb5"
      },
      "execution_count": null,
      "outputs": [
        {
          "output_type": "stream",
          "name": "stdout",
          "text": [
            "  Race_Index  Place       Date  Distance Going Race_Class  Draw  Rating  \\\n",
            "0        463    3.0 2024-02-28      1200     G          3   2.0    72.0   \n",
            "1        422    1.0 2024-02-15      1200     G          3  11.0    67.0   \n",
            "2        386    4.0 2024-01-31      1200     G          3   8.0    68.0   \n",
            "3        332    3.0 2024-01-10      1200     G          3   3.0    68.0   \n",
            "4        295    7.0 2023-12-29      1200     G          3   7.0    68.0   \n",
            "\n",
            "   Win_Odds  Actual_Weight  Declared_Horse_Weight  RC Track Course  \\\n",
            "0       6.2            128                 1078.0  HV  Turf      A   \n",
            "1       5.2            127                 1075.0  HV  Turf      C   \n",
            "2      14.0            123                 1083.0  HV  Turf      A   \n",
            "3       7.3            126                 1074.0  HV  Turf      B   \n",
            "4       4.8            125                 1095.0  HV  Turf    C+3   \n",
            "\n",
            "   Finish_Time_ms  \n",
            "0         70980.0  \n",
            "1         70510.0  \n",
            "2         70180.0  \n",
            "3         70300.0  \n",
            "4         70540.0  \n",
            "14964\n",
            "  Race_Index  Place       Date  Distance Going Race_Class  Draw  Rating  \\\n",
            "0        463    3.0 2024-02-28      1200     G          3   2.0    72.0   \n",
            "1        422    1.0 2024-02-15      1200     G          3  11.0    67.0   \n",
            "2        386    4.0 2024-01-31      1200     G          3   8.0    68.0   \n",
            "3        332    3.0 2024-01-10      1200     G          3   3.0    68.0   \n",
            "4        295    7.0 2023-12-29      1200     G          3   7.0    68.0   \n",
            "\n",
            "   Win_Odds  Actual_Weight  Declared_Horse_Weight  RC Track Course  \\\n",
            "0       6.2            128                 1078.0  HV  Turf      A   \n",
            "1       5.2            127                 1075.0  HV  Turf      C   \n",
            "2      14.0            123                 1083.0  HV  Turf      A   \n",
            "3       7.3            126                 1074.0  HV  Turf      B   \n",
            "4       4.8            125                 1095.0  HV  Turf    C+3   \n",
            "\n",
            "   Finish_Time_ms  \n",
            "0         70980.0  \n",
            "1         70510.0  \n",
            "2         70180.0  \n",
            "3         70300.0  \n",
            "4         70540.0  \n",
            "13698\n",
            "      Race_Index  Place       Date  Distance Going Race_Class  Draw  Rating  \\\n",
            "0            463    3.0 2024-02-28      1200     G          3   2.0    72.0   \n",
            "1            422    1.0 2024-02-15      1200     G          3  11.0    67.0   \n",
            "2            386    4.0 2024-01-31      1200     G          3   8.0    68.0   \n",
            "3            332    3.0 2024-01-10      1200     G          3   3.0    68.0   \n",
            "4            295    7.0 2023-12-29      1200     G          3   7.0    68.0   \n",
            "...          ...    ...        ...       ...   ...        ...   ...     ...   \n",
            "13693        090    9.0 2023-10-15      1400     G          3   2.0    62.0   \n",
            "13694        515    5.0 2022-03-20      1600     G          3   7.0    66.0   \n",
            "13695        442    2.0 2022-02-20      1600     Y          3   5.0    64.0   \n",
            "13696        382    8.0 2022-01-30      1600     G          3  11.0    66.0   \n",
            "13697        308    6.0 2022-01-01      1400     G          3   6.0    66.0   \n",
            "\n",
            "       Win_Odds  Actual_Weight  Declared_Horse_Weight  RC Track Course  \\\n",
            "0           6.2            128                 1078.0  HV  Turf      A   \n",
            "1           5.2            127                 1075.0  HV  Turf      C   \n",
            "2          14.0            123                 1083.0  HV  Turf      A   \n",
            "3           7.3            126                 1074.0  HV  Turf      B   \n",
            "4           4.8            125                 1095.0  HV  Turf    C+3   \n",
            "...         ...            ...                    ...  ..   ...    ...   \n",
            "13693      90.0            118                 1138.0  ST  Turf    A+3   \n",
            "13694       9.0            121                 1135.0  ST  Turf      A   \n",
            "13695      24.0            117                 1137.0  ST  Turf      A   \n",
            "13696      21.0            118                 1138.0  ST  Turf    A+3   \n",
            "13697      80.0            116                 1128.0  ST  Turf    B+2   \n",
            "\n",
            "       Finish_Time_ms  \n",
            "0             70980.0  \n",
            "1             70510.0  \n",
            "2             70180.0  \n",
            "3             70300.0  \n",
            "4             70540.0  \n",
            "...               ...  \n",
            "13693         82130.0  \n",
            "13694         95000.0  \n",
            "13695         98370.0  \n",
            "13696         95390.0  \n",
            "13697         82690.0  \n",
            "\n",
            "[13698 rows x 15 columns]\n"
          ]
        }
      ]
    }
  ]
}